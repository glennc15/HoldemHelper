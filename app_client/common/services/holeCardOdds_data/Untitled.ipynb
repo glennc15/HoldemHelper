{
 "cells": [
  {
   "cell_type": "code",
   "execution_count": 37,
   "metadata": {
    "collapsed": true
   },
   "outputs": [],
   "source": [
    "import numpy as np\n",
    "import pandas as pd\n",
    "import itertools"
   ]
  },
  {
   "cell_type": "code",
   "execution_count": 93,
   "metadata": {},
   "outputs": [],
   "source": [
    "class CardDeck(object):\n",
    "    def __init__(self):\n",
    "        self.card_deck = self.init_deck()\n",
    "        self.cards_removed_from_deck = []\n",
    "        \n",
    "        # for studying card combos:\n",
    "        self.card_combos = None\n",
    "        \n",
    "    def init_deck(self):\n",
    "        ranks = [\"2\", \"3\", \"4\", \"5\", \"6\", \"7\", \"8\", \"9\", \"T\", \"J\", \"Q\", \"K\", \"A\"]\n",
    "        suits = [\"c\", \"d\", \"h\", \"s\"]\n",
    "        card_deck = [(rank+suit) for rank in ranks for suit in suits ]\n",
    "        assert len(card_deck), 52\n",
    "        \n",
    "        return card_deck\n",
    "    \n",
    "    def build_combos(self):\n",
    "        self.card_combos = list(itertools.combinations(self.card_deck, 2))\n",
    "        \n",
    "        return self\n",
    "    \n",
    "    def remove_card(self, cards):\n",
    "        for card in cards:\n",
    "            self.cards_removed_from_deck.append(card)\n",
    "            self.card_deck = [this_card for this_card in self.card_deck if this_card != card]\n",
    "    \n",
    "        return self"
   ]
  },
  {
   "cell_type": "code",
   "execution_count": 106,
   "metadata": {},
   "outputs": [
    {
     "data": {
      "text/plain": [
       "1035"
      ]
     },
     "execution_count": 106,
     "metadata": {},
     "output_type": "execute_result"
    }
   ],
   "source": [
    "my_deck = CardDeck()\n",
    "# my_deck.remove_card([\"Td\", \"Ts\"]).build_combos() # 1225\n",
    "# draw 1st pair of 4s:\n",
    "# my_deck.remove_card([\"Td\", \"Ts\", \"4d\", \"4s\"]).build_combos() # 1128\n",
    "# draw a non pair of 4s off the deck:\n",
    "# my_deck.remove_card([\"Td\", \"Ts\", \"2d\", \"3s\"]).build_combos() # 1128\n",
    "# draw a pair of 4s off the deck at 3rd draw:\n",
    "# my_deck.remove_card([\"Td\", \"Ts\", \"2d\", \"3s\", \"4d\", \"4s\"]).build_combos() # 1035\n",
    "# draw a non pair of 4s off the deck at 3rd draw:\n",
    "# my_deck.remove_card([\"Td\", \"Ts\", \"2d\", \"3s\", \"5d\", \"6s\"]).build_combos() # 1035\n",
    "# draw a pair of 4s off the deck at 3rd draw:\n",
    "my_deck.remove_card([\"Td\", \"Ts\", \"2d\", \"3s\", \"4d\", \"4s\"]).build_combos() # 1035\n",
    "# draw a non pair of 4s off the deck at 3rd draw:\n",
    "# my_deck.remove_card([\"Td\", \"Ts\", \"2d\", \"3s\", \"5d\", \"6s\"]).build_combos() # 1035\n",
    "\n",
    "\n",
    "\n",
    "len(my_deck.card_combos)"
   ]
  },
  {
   "cell_type": "code",
   "execution_count": 96,
   "metadata": {},
   "outputs": [
    {
     "data": {
      "text/plain": [
       "1225"
      ]
     },
     "execution_count": 96,
     "metadata": {},
     "output_type": "execute_result"
    }
   ],
   "source": [
    "len(my_deck.card_combos)"
   ]
  },
  {
   "cell_type": "code",
   "execution_count": 81,
   "metadata": {},
   "outputs": [
    {
     "data": {
      "text/plain": [
       "1225"
      ]
     },
     "execution_count": 81,
     "metadata": {},
     "output_type": "execute_result"
    }
   ],
   "source": [
    "# remove a pair of cards (\"2c\", \"2d\") for this test case and see how many pairs are left\n",
    "reduced_pairs = [card_pair for card_pair in card_pairs if card_pair[0] != \"2c\"]\n",
    "reduced_pairs = [card_pair for card_pair in reduced_pairs if card_pair[1] != \"2c\"]\n",
    "reduced_pairs = [card_pair for card_pair in reduced_pairs if card_pair[0] != \"2d\"]\n",
    "reduced_pairs = [card_pair for card_pair in reduced_pairs if card_pair[1] != \"2d\"]\n",
    "len(reduced_pairs)"
   ]
  },
  {
   "cell_type": "code",
   "execution_count": 80,
   "metadata": {},
   "outputs": [
    {
     "data": {
      "text/plain": [
       "1225"
      ]
     },
     "execution_count": 80,
     "metadata": {},
     "output_type": "execute_result"
    }
   ],
   "source": [
    "# remove a combo, cards (\"2c\", \"3d\") for this test case, and see how many pairs are left\n",
    "reduced_pairs = [card_pair for card_pair in card_pairs if card_pair[0] != \"2c\"]\n",
    "reduced_pairs = [card_pair for card_pair in reduced_pairs if card_pair[1] != \"2c\"]\n",
    "reduced_pairs = [card_pair for card_pair in reduced_pairs if card_pair[0] != \"3d\"]\n",
    "reduced_pairs = [card_pair for card_pair in reduced_pairs if card_pair[1] != \"3d\"]\n",
    "len(reduced_pairs)"
   ]
  },
  {
   "cell_type": "code",
   "execution_count": 85,
   "metadata": {},
   "outputs": [
    {
     "data": {
      "text/plain": [
       "[('2h', '2s'),\n",
       " ('2h', '3c'),\n",
       " ('2h', '3d'),\n",
       " ('2h', '3h'),\n",
       " ('2h', '3s'),\n",
       " ('2h', '4c'),\n",
       " ('2h', '4d'),\n",
       " ('2h', '4h'),\n",
       " ('2h', '4s'),\n",
       " ('2h', '5c'),\n",
       " ('2h', '5d'),\n",
       " ('2h', '5h'),\n",
       " ('2h', '5s'),\n",
       " ('2h', '6c'),\n",
       " ('2h', '6d'),\n",
       " ('2h', '6h'),\n",
       " ('2h', '6s'),\n",
       " ('2h', '7c'),\n",
       " ('2h', '7d'),\n",
       " ('2h', '7h'),\n",
       " ('2h', '7s'),\n",
       " ('2h', '8c'),\n",
       " ('2h', '8d'),\n",
       " ('2h', '8h'),\n",
       " ('2h', '8s'),\n",
       " ('2h', '9c'),\n",
       " ('2h', '9d'),\n",
       " ('2h', '9h'),\n",
       " ('2h', '9s'),\n",
       " ('2h', 'Tc'),\n",
       " ('2h', 'Td'),\n",
       " ('2h', 'Th'),\n",
       " ('2h', 'Ts'),\n",
       " ('2h', 'Jc'),\n",
       " ('2h', 'Jd'),\n",
       " ('2h', 'Jh'),\n",
       " ('2h', 'Js'),\n",
       " ('2h', 'Qc'),\n",
       " ('2h', 'Qd'),\n",
       " ('2h', 'Qh'),\n",
       " ('2h', 'Qs'),\n",
       " ('2h', 'Kc'),\n",
       " ('2h', 'Kd'),\n",
       " ('2h', 'Kh'),\n",
       " ('2h', 'Ks'),\n",
       " ('2h', 'Ac'),\n",
       " ('2h', 'Ad'),\n",
       " ('2h', 'Ah'),\n",
       " ('2h', 'As'),\n",
       " ('2s', '3c'),\n",
       " ('2s', '3d'),\n",
       " ('2s', '3h'),\n",
       " ('2s', '3s'),\n",
       " ('2s', '4c'),\n",
       " ('2s', '4d'),\n",
       " ('2s', '4h'),\n",
       " ('2s', '4s'),\n",
       " ('2s', '5c'),\n",
       " ('2s', '5d'),\n",
       " ('2s', '5h'),\n",
       " ('2s', '5s'),\n",
       " ('2s', '6c'),\n",
       " ('2s', '6d'),\n",
       " ('2s', '6h'),\n",
       " ('2s', '6s'),\n",
       " ('2s', '7c'),\n",
       " ('2s', '7d'),\n",
       " ('2s', '7h'),\n",
       " ('2s', '7s'),\n",
       " ('2s', '8c'),\n",
       " ('2s', '8d'),\n",
       " ('2s', '8h'),\n",
       " ('2s', '8s'),\n",
       " ('2s', '9c'),\n",
       " ('2s', '9d'),\n",
       " ('2s', '9h'),\n",
       " ('2s', '9s'),\n",
       " ('2s', 'Tc'),\n",
       " ('2s', 'Td'),\n",
       " ('2s', 'Th'),\n",
       " ('2s', 'Ts'),\n",
       " ('2s', 'Jc'),\n",
       " ('2s', 'Jd'),\n",
       " ('2s', 'Jh'),\n",
       " ('2s', 'Js'),\n",
       " ('2s', 'Qc'),\n",
       " ('2s', 'Qd'),\n",
       " ('2s', 'Qh'),\n",
       " ('2s', 'Qs'),\n",
       " ('2s', 'Kc'),\n",
       " ('2s', 'Kd'),\n",
       " ('2s', 'Kh'),\n",
       " ('2s', 'Ks'),\n",
       " ('2s', 'Ac'),\n",
       " ('2s', 'Ad'),\n",
       " ('2s', 'Ah'),\n",
       " ('2s', 'As')]"
      ]
     },
     "execution_count": 85,
     "metadata": {},
     "output_type": "execute_result"
    }
   ],
   "source": [
    "[card_pair for card_pair in reduced_pairs if card_pair[0][0] == \"2\" or card_pair[1][0] == \"2\"]"
   ]
  },
  {
   "cell_type": "code",
   "execution_count": null,
   "metadata": {
    "collapsed": true
   },
   "outputs": [],
   "source": []
  },
  {
   "cell_type": "code",
   "execution_count": 124,
   "metadata": {},
   "outputs": [
    {
     "data": {
      "text/plain": [
       "0.95459459459459572"
      ]
     },
     "execution_count": 124,
     "metadata": {},
     "output_type": "execute_result"
    }
   ],
   "source": [
    "# Probability none of 8 opponents will have a pair:\n",
    "opponents = np.arange(8)\n",
    "two_card_combinations = ((52 - 2*opponents) * (51 - 2*opponents)) / 2\n",
    "two_card_probabilities = 1  - (1 / two_card_combinations[1:])\n",
    "prob_no_pair = np.prod(two_card_probabilities)\n",
    "prob_no_pair\n",
    "prob_pair = 1 - prob_no_pair\n",
    "\n",
    "\n",
    "1 - 6*prob_pair"
   ]
  },
  {
   "cell_type": "code",
   "execution_count": 125,
   "metadata": {},
   "outputs": [
    {
     "data": {
      "text/plain": [
       "array([ 1326.,  1225.,  1128.,  1035.,   946.,   861.,   780.,   703.])"
      ]
     },
     "execution_count": 125,
     "metadata": {},
     "output_type": "execute_result"
    }
   ],
   "source": [
    "two_card_combinations"
   ]
  },
  {
   "cell_type": "code",
   "execution_count": 133,
   "metadata": {},
   "outputs": [
    {
     "data": {
      "text/plain": [
       "0.13403326403326377"
      ]
     },
     "execution_count": 133,
     "metadata": {},
     "output_type": "execute_result"
    }
   ],
   "source": [
    "np.prod(1 - np.repeat(6, 7) / two_card_combinations[1:])\n",
    "3* (1-np.prod(1 - np.repeat(6, 7) / two_card_combinations[1:]))"
   ]
  },
  {
   "cell_type": "code",
   "execution_count": null,
   "metadata": {
    "collapsed": true
   },
   "outputs": [],
   "source": []
  }
 ],
 "metadata": {
  "kernelspec": {
   "display_name": "Python 3",
   "language": "python",
   "name": "python3"
  },
  "language_info": {
   "codemirror_mode": {
    "name": "ipython",
    "version": 3
   },
   "file_extension": ".py",
   "mimetype": "text/x-python",
   "name": "python",
   "nbconvert_exporter": "python",
   "pygments_lexer": "ipython3",
   "version": "3.6.1"
  }
 },
 "nbformat": 4,
 "nbformat_minor": 2
}
