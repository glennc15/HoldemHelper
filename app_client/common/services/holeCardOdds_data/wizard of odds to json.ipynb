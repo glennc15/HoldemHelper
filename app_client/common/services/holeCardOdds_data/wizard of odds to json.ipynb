{
 "cells": [
  {
   "cell_type": "code",
   "execution_count": 1,
   "metadata": {
    "collapsed": true
   },
   "outputs": [],
   "source": [
    "import pandas as pd\n",
    "import re\n",
    "import json"
   ]
  },
  {
   "cell_type": "code",
   "execution_count": 2,
   "metadata": {
    "collapsed": true
   },
   "outputs": [],
   "source": [
    "def process_pairs(row_data, poker_odds_dict):\n",
    "\n",
    "    pair_reg = re.compile(r'Pair of [0-9AKQJT]\\'s')\n",
    "    if pair_reg.search(row_data.Cards) is not None:\n",
    "        # win rate:     \n",
    "        win_data = float(row_data.Win[:-1])\n",
    "        \n",
    "        # dictionary key:\n",
    "        pair_key = row_data.Cards[-3]        \n",
    "        \n",
    "        # add dictionary :\n",
    "        poker_odds_dict[pair_key] = win_data\n",
    "        \n",
    "    return poker_odds_dict"
   ]
  },
  {
   "cell_type": "code",
   "execution_count": 3,
   "metadata": {
    "collapsed": true
   },
   "outputs": [],
   "source": [
    "def process_suited_cards(row_data, poker_odds_dict):\n",
    "\n",
    "    suited_reg = re.compile(r'[0-9AKQJT]/[0-9AKQJT] suited')\n",
    "    if suited_reg.search(row_data.Cards) is not None:\n",
    "        # win rate:     \n",
    "        win_data = float(row_data.Win[:-1])\n",
    "        \n",
    "        # dictionary key:\n",
    "        first_card, second_card = row_data.Cards.split(\"/\")\n",
    "        second_card = second_card[0]\n",
    "        first_card, second_card = swap_cards(first_card, second_card)    \n",
    "        card_key = first_card + second_card\n",
    "        \n",
    "        # add dictionary\n",
    "        poker_odds_dict[card_key] = {'s': win_data, \"o\": 0}\n",
    "        \n",
    "    return poker_odds_dict"
   ]
  },
  {
   "cell_type": "code",
   "execution_count": 4,
   "metadata": {
    "collapsed": true
   },
   "outputs": [],
   "source": [
    "def process_unsuited_cards(row_data, poker_odds_dict):\n",
    "    if \"unsuited\" in row_data.Cards:\n",
    "        # win rate:     \n",
    "        win_data = float(row_data.Win[:-1])\n",
    "        \n",
    "        # dictionary key:\n",
    "        first_card, second_card = row_data.Cards.split(\"/\")\n",
    "        second_card = second_card[0]\n",
    "        first_card, second_card = swap_cards(first_card, second_card)  \n",
    "        card_key = first_card + second_card\n",
    "        \n",
    "        # update key (process_suided_cards() must be ran before process_unsuited_cards)\n",
    "        poker_odds_dict[card_key]['o'] = win_data\n",
    "        \n",
    "    return poker_odds_dict"
   ]
  },
  {
   "cell_type": "code",
   "execution_count": 5,
   "metadata": {
    "collapsed": true
   },
   "outputs": [],
   "source": [
    "def swap_cards(first_card, second_card):\n",
    "    card_values = {\n",
    "        \"2\": 2,\n",
    "        \"3\": 3,\n",
    "        \"4\": 4,\n",
    "        \"5\": 5,\n",
    "        \"6\": 6,\n",
    "        \"7\": 7,\n",
    "        \"8\": 8,\n",
    "        \"9\": 9,\n",
    "        \"T\": 10,\n",
    "        \"J\": 11,\n",
    "        \"Q\": 12,\n",
    "        \"K\": 13,\n",
    "        \"A\": 14\n",
    "    }\n",
    "    \n",
    "    if card_values[first_card] > card_values[second_card]:\n",
    "        return first_card, second_card\n",
    "    else:\n",
    "        return second_card, first_card"
   ]
  },
  {
   "cell_type": "code",
   "execution_count": 6,
   "metadata": {
    "collapsed": true
   },
   "outputs": [],
   "source": [
    "def build_json_files(players):\n",
    "    # raw data from wizardofodds.com\n",
    "    wizardofodds_url = \"https://wizardofodds.com/games/texas-hold-em/{}-player-game/\".format(players)\n",
    "    poker_odds_raw= pd.read_html(wizardofodds_url)\n",
    "\n",
    "\n",
    "    \n",
    "    # # 2 player odds:\n",
    "    # poker_odds_raw= pd.read_html(\"https://wizardofodds.com/games/texas-hold-em/2-player-game/\")\n",
    "    # filename = \"2_player_odds.json\"\n",
    "\n",
    "    # # 3 player odds:\n",
    "    # poker_odds_raw= pd.read_html(\"https://wizardofodds.com/games/texas-hold-em/3-player-game/\")\n",
    "    # filename = \"3_player_odds.json\"\n",
    "\n",
    "    # # 4 player odds:\n",
    "    # poker_odds_raw= pd.read_html(\"https://wizardofodds.com/games/texas-hold-em/4-player-game/\")\n",
    "    # filename = \"4_player_odds.json\"\n",
    "\n",
    "    # Clean up:\n",
    "    poker_odds = poker_odds_raw[0]\n",
    "    poker_odds.columns = poker_odds.iloc[0, :]\n",
    "    poker_odds = poker_odds.iloc[1:,:]\n",
    "    poker_odds = poker_odds.iloc[:, 0:2]\n",
    "    poker_odds.columns = [\"Cards\", \"Win\"]\n",
    "\n",
    "    # Build the odds dictionary from the dataframe:\n",
    "    poker_odds_dict = {}\n",
    "    # process pairs:\n",
    "    poker_odds_dict = poker_odds.apply(process_pairs, axis=1, args=(poker_odds_dict, ))\n",
    "    poker_odds_dict = poker_odds_dict.iloc[-1]\n",
    "    # process suited cards:\n",
    "    poker_odds_dict = poker_odds.apply(process_suited_cards, axis=1, args=(poker_odds_dict, ))\n",
    "    poker_odds_dict = poker_odds_dict.iloc[-1]\n",
    "    # process unsuited cards:\n",
    "    poker_odds_dict = poker_odds.apply(process_unsuited_cards, axis=1, args=(poker_odds_dict, ))\n",
    "    poker_odds_dict = poker_odds_dict.iloc[-1]\n",
    "\n",
    "    # convert the odds dictionary to json and write to a file\n",
    "    filename = \"{}_player_odds.json\".format(players)\n",
    "    json_file = open(filename, 'w')\n",
    "    json_file.write(json.dumps(poker_odds_dict))\n",
    "    json_file.close()"
   ]
  },
  {
   "cell_type": "code",
   "execution_count": 7,
   "metadata": {
    "collapsed": true
   },
   "outputs": [],
   "source": [
    "players_list = [2, 3, 4, 6, 8, 10]\n",
    "\n",
    "for players in players_list:\n",
    "    build_json_files(players)"
   ]
  },
  {
   "cell_type": "code",
   "execution_count": null,
   "metadata": {
    "collapsed": true
   },
   "outputs": [],
   "source": []
  }
 ],
 "metadata": {
  "kernelspec": {
   "display_name": "Python 3",
   "language": "python",
   "name": "python3"
  },
  "language_info": {
   "codemirror_mode": {
    "name": "ipython",
    "version": 3
   },
   "file_extension": ".py",
   "mimetype": "text/x-python",
   "name": "python",
   "nbconvert_exporter": "python",
   "pygments_lexer": "ipython3",
   "version": "3.6.1"
  }
 },
 "nbformat": 4,
 "nbformat_minor": 2
}
